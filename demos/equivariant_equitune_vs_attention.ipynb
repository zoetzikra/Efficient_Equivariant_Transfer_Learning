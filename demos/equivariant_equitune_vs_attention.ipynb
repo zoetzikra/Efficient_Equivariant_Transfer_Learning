{
 "cells": [
  {
   "cell_type": "code",
   "execution_count": 1,
   "metadata": {},
   "outputs": [],
   "source": [
    "DATA_DIR = 'data/'\n",
    "RESULT_DIR = 'results/original_vs_updated/'\n",
    "import os\n",
    "# Create the directories\n",
    "os.makedirs(DATA_DIR, exist_ok=True)\n",
    "os.makedirs(RESULT_DIR, exist_ok=True)"
   ]
  },
  {
   "cell_type": "code",
   "execution_count": 2,
   "metadata": {},
   "outputs": [],
   "source": [
    "import pandas as pd \n",
    "import wandb\n",
    "from dotenv import load_dotenv\n",
    "load_dotenv(override=True)\n",
    "api = wandb.Api()\n",
    "\n",
    "\n",
    "# Project is specified by <entity/project-name>\n",
    "entity = os.getenv(\"WANDB_ENTITY\", \"dl2-2024\")\n",
    "project = os.getenv(\"WANDB_PROJECT\", \"dl-2024\")\n",
    "runs = api.runs(f\"{entity}/{project}\")\n",
    "\n",
    "summary_list, config_list, name_list = [], [], []\n",
    "for run in runs: \n",
    "    # .summary contains the output keys/values for metrics like accuracy.\n",
    "    #  We call ._json_dict to omit large files \n",
    "    summary_list.append(run.summary._json_dict)\n",
    "    summary_list[-1]['tags'] = run.tags\n",
    "\n",
    "    # .config contains the hyperparameters.\n",
    "    #  We remove special values that start with _.\n",
    "    config_list.append(\n",
    "        {k: v for k,v in run.config.items()\n",
    "          if not k.startswith('_')})\n",
    "\n",
    "    # .name is the human-readable name of the run.\n",
    "    name_list.append(run.name)\n",
    "\n",
    "runs_df = pd.DataFrame({\n",
    "    \"summary\": summary_list,\n",
    "    \"config\": config_list,\n",
    "    \"name\": name_list\n",
    "    })\n",
    "\n",
    "runs_df.to_csv(DATA_DIR + \"project.csv\")"
   ]
  },
  {
   "cell_type": "code",
   "execution_count": 3,
   "metadata": {},
   "outputs": [
    {
     "name": "stdout",
     "output_type": "stream",
     "text": [
      "|    | Method    | Architecture-Transformation   |   Prefinetune Top1 Acc |\n",
      "|---:|:----------|:------------------------------|-----------------------:|\n",
      "|  0 | equitune  | CLIP w RN50 - rot90           |                  40.95 |\n",
      "|  1 | attention | CLIP w RN50 - rot90           |                  40.65 |\n"
     ]
    }
   ],
   "source": [
    "import pandas as pd\n",
    "from tabulate import tabulate\n",
    "\n",
    "# Read the CSV file\n",
    "runs_df = pd.read_csv(DATA_DIR + \"project.csv\")\n",
    "\n",
    "# Extract and flatten the summary and config columns\n",
    "summary_df = pd.json_normalize(runs_df['summary'].apply(eval))\n",
    "config_df = pd.json_normalize(runs_df['config'].apply(eval))\n",
    "\n",
    "# Combine the flattened summary and config data\n",
    "results_df = pd.concat([runs_df[['name']], config_df, summary_df], axis=1)\n",
    "\n",
    "code_full_val = results_df[results_df['tags'].apply(lambda x: x == ['equivariant features'])]\n",
    "\n",
    "# Function to get the specified metric for each dataset, model, and transformation combination\n",
    "def get_metric(df, dataset_name, model_name, transformation, method, metric):\n",
    "    result = df[(df['dataset_name'] == dataset_name) & \n",
    "                (df['model_name'] == model_name) & \n",
    "                (df['data_transformations'] == transformation) &\n",
    "                (df['method'] == method)]\n",
    "    # print(result.head())\n",
    "    result = result[metric]\n",
    "\n",
    "    return round(result.iloc[0],2) if not result.empty else None\n",
    "\n",
    "datasets = ['CIFAR100']  # Add your datasets here\n",
    "metrics = [\"val_top1_acc\", \"final_top1_acc\"]  \n",
    "transformations = ['rot90']\n",
    "methods = ['equitune', 'attention']\n",
    "architectures = ['RN50']  # Add more architectures if needed\n",
    "\n",
    "# Create a summary DataFrame for each dataset\n",
    "for i, dataset in enumerate(datasets):\n",
    "    summary_data_full_val = {\n",
    "        \"Method\": [],\n",
    "        \"Architecture-Transformation\": [],\n",
    "        \"Prefinetune Top1 Acc\": [],\n",
    "    }\n",
    "\n",
    "    # Populate the summary data\n",
    "    for method in methods:\n",
    "        combination = f\"CLIP w {architectures[0]} - {transformations[0]}\"\n",
    "        \n",
    "        summary_data_full_val[\"Method\"].append(method)\n",
    "        summary_data_full_val[\"Architecture-Transformation\"].append(combination)\n",
    "        summary_data_full_val[\"Prefinetune Top1 Acc\"].append(\n",
    "            get_metric(code_full_val, dataset, architectures[0], transformations[0], method, metrics[0]))\n",
    "\n",
    "    summary_df_full_val = pd.DataFrame(summary_data_full_val)\n",
    "    markdown_table_full_val = tabulate(summary_df_full_val, headers='keys', tablefmt='pipe')\n",
    "    # Save the markdown table to a file\n",
    "    with open(f\"{RESULT_DIR}{dataset}_equitune_vs_attention.md\", \"w\") as file:\n",
    "        file.write(markdown_table_full_val)\n",
    "    print(markdown_table_full_val)"
   ]
  }
 ],
 "metadata": {
  "kernelspec": {
   "display_name": "lambda_equitune",
   "language": "python",
   "name": "python3"
  },
  "language_info": {
   "codemirror_mode": {
    "name": "ipython",
    "version": 3
   },
   "file_extension": ".py",
   "mimetype": "text/x-python",
   "name": "python",
   "nbconvert_exporter": "python",
   "pygments_lexer": "ipython3",
   "version": "3.9.19"
  }
 },
 "nbformat": 4,
 "nbformat_minor": 2
}
