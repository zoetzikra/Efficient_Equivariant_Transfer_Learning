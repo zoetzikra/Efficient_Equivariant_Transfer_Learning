{
 "cells": [
  {
   "cell_type": "code",
   "execution_count": 1,
   "metadata": {},
   "outputs": [
    {
     "name": "stdout",
     "output_type": "stream",
     "text": [
      "/teamspace/studios/this_studio/DL2-2024\n"
     ]
    }
   ],
   "source": [
    "%cd DL2-2024/"
   ]
  },
  {
   "cell_type": "code",
   "execution_count": 2,
   "metadata": {},
   "outputs": [
    {
     "name": "stdout",
     "output_type": "stream",
     "text": [
      "Matplotlib created a temporary cache directory at /tmp/matplotlib-t1gbk6pp because the default path (/teamspace/studios/this_studio/.config/matplotlib) is not a writable directory; it is highly recommended to set the MPLCONFIGDIR environment variable to a writable directory, in particular to speed up the import of Matplotlib and to better support multiprocessing.\n",
      "MY CLIP IMPORTED\n",
      "Torch version: 2.0.1\n",
      "Global seed set to 0\n",
      "Model parameters: 102,007,137\n",
      "Input resolution: 224\n",
      "Context length: 77\n",
      "Vocab size: 49408\n",
      "Files already downloaded and verified\n",
      "Files already downloaded and verified\n",
      "Files already downloaded and verified\n",
      "Files already downloaded and verified\n",
      "Loading model from saved_weight_net_models/CIFAR100_RN50_aug_rot90_eq_rot90_steps_10.pt\n",
      "  0%|                                                   | 0/313 [00:00<?, ?it/s]\n",
      "Traceback (most recent call last):\n",
      "  File \"/teamspace/studios/this_studio/DL2-2024/EquiCLIP/visualize_lambda.py\", line 171, in <module>\n",
      "    main(args)\n",
      "  File \"/teamspace/studios/this_studio/DL2-2024/EquiCLIP/visualize_lambda.py\", line 94, in main\n",
      "    image_features, internal_features = model.encode_image(x, return_internal_features=True)  # dim [group_size * batch_size, feat_size=512]\n",
      "TypeError: encode_image() got an unexpected keyword argument 'return_internal_features'\n"
     ]
    }
   ],
   "source": [
    "!python EquiCLIP/visualize_lambda.py \\\n",
    "    --dataset_name CIFAR100 \\\n",
    "    --method equitune \\\n",
    "    --group_name rot90 \\\n",
    "    --data_transformations rot90  \\\n",
    "    --model_name 'RN50' \\\n",
    "    --num_prefinetunes 10 \\\n",
    "    --visualize_features"
   ]
  },
  {
   "cell_type": "code",
   "execution_count": null,
   "metadata": {},
   "outputs": [],
   "source": []
  }
 ],
 "metadata": {
  "kernelspec": {
   "display_name": "cloudspace",
   "language": "python",
   "name": "python3"
  },
  "language_info": {
   "codemirror_mode": {
    "name": "ipython",
    "version": 3
   },
   "file_extension": ".py",
   "mimetype": "text/x-python",
   "name": "python",
   "nbconvert_exporter": "python",
   "pygments_lexer": "ipython3",
   "version": "3.10.10"
  }
 },
 "nbformat": 4,
 "nbformat_minor": 2
}
